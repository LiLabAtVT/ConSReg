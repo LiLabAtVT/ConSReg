{
 "cells": [
  {
   "cell_type": "code",
   "execution_count": 1,
   "metadata": {},
   "outputs": [],
   "source": [
    "import pandas as pd\n",
    "import os\n",
    "import re\n",
    "\n",
    "from ConSReg import ConSReg"
   ]
  },
  {
   "cell_type": "markdown",
   "metadata": {},
   "source": [
    "File names of input data"
   ]
  },
  {
   "cell_type": "code",
   "execution_count": 2,
   "metadata": {
    "collapsed": true
   },
   "outputs": [],
   "source": [
    "# Dap-seq narrow peak files\n",
    "dap_file_list = os.listdir(\"data/dap_seq_all_peaks/\")\n",
    "dap_file = [ \"data/dap_seq_all_peaks/\" + file for file in dap_file_list if re.match(\".*narrowPeak\",file) is not None]\n",
    "\n",
    "# ATAC-seq peak file\n",
    "atac_file = \"data/atac_seq_all_merged.bed\"\n",
    "\n",
    "# Arabidopsis genome annotation file\n",
    "gff_file = \"data/TAIR10_GFF3_genes.gff\"\n",
    "\n",
    "# Differential contrast result\n",
    "sc_diff_file = [\"/work/alexsong/project/scConSReg/data/cortext-endodermis.csv\"]"
   ]
  },
  {
   "cell_type": "markdown",
   "metadata": {},
   "source": [
    "Create a ConSReg object for analysis"
   ]
  },
  {
   "cell_type": "code",
   "execution_count": 3,
   "metadata": {},
   "outputs": [],
   "source": [
    "analysis = ConSReg()"
   ]
  },
  {
   "cell_type": "markdown",
   "metadata": {},
   "source": [
    "Read and preprocess all data files"
   ]
  },
  {
   "cell_type": "code",
   "execution_count": 4,
   "metadata": {},
   "outputs": [
    {
     "name": "stdout",
     "output_type": "stream",
     "text": [
      "Merging DAP-seq peaks...\n"
     ]
    },
    {
     "name": "stderr",
     "output_type": "stream",
     "text": [
      "/work/alexsong/tools/anaconda2/lib/python2.7/site-packages/rpy2/rinterface/__init__.py:186: RRuntimeWarning: Import genomic features from the file as a GRanges object ... \n",
      "  warnings.warn(x, RRuntimeWarning)\n",
      "/work/alexsong/tools/anaconda2/lib/python2.7/site-packages/rpy2/rinterface/__init__.py:186: RRuntimeWarning: OK\n",
      "\n",
      "  warnings.warn(x, RRuntimeWarning)\n",
      "/work/alexsong/tools/anaconda2/lib/python2.7/site-packages/rpy2/rinterface/__init__.py:186: RRuntimeWarning: Prepare the 'metadata' data frame ... \n",
      "  warnings.warn(x, RRuntimeWarning)\n"
     ]
    },
    {
     "name": "stdout",
     "output_type": "stream",
     "text": [
      ">> preparing features information...\t\t 2018-10-18 02:49:26 PM \n",
      ">> identifying nearest features...\t\t 2018-10-18 02:49:27 PM \n",
      ">> calculating distance from peak to TSS...\t 2018-10-18 02:50:41 PM \n",
      ">> assigning genomic annotation...\t\t 2018-10-18 02:50:41 PM \n",
      ">> assigning chromosome lengths\t\t\t 2018-10-18 02:51:07 PM \n",
      ">> done...\t\t\t\t\t 2018-10-18 02:51:07 PM \n",
      "Done\n",
      "Overlapping DAP-seq with ATAC-seq...\n",
      "Done\n",
      "Reading diff tables...\n",
      "Done\n"
     ]
    },
    {
     "name": "stderr",
     "output_type": "stream",
     "text": [
      "/work/alexsong/tools/anaconda2/lib/python2.7/site-packages/rpy2/rinterface/__init__.py:186: RRuntimeWarning: Make the TxDb object ... \n",
      "  warnings.warn(x, RRuntimeWarning)\n"
     ]
    },
    {
     "data": {
      "text/plain": [
       "<ConSReg.ConSReg instance at 0x7fdea4822710>"
      ]
     },
     "execution_count": 4,
     "metadata": {},
     "output_type": "execute_result"
    }
   ],
   "source": [
    "analysis.preprocess(dap_file = dap_file, diff_file = sc_diff_file, atac_file = atac_file, gff_file=gff_file,)"
   ]
  },
  {
   "cell_type": "markdown",
   "metadata": {},
   "source": [
    "Generate feature matrices for each differential contrast"
   ]
  },
  {
   "cell_type": "code",
   "execution_count": 5,
   "metadata": {},
   "outputs": [
    {
     "name": "stdout",
     "output_type": "stream",
     "text": [
      "Generating feature matrices...\n",
      "Done\n"
     ]
    },
    {
     "data": {
      "text/plain": [
       "<ConSReg.ConSReg instance at 0x7fdea4822710>"
      ]
     },
     "execution_count": 5,
     "metadata": {},
     "output_type": "execute_result"
    }
   ],
   "source": [
    "analysis.gen_feature_mat()"
   ]
  },
  {
   "cell_type": "markdown",
   "metadata": {},
   "source": [
    "Compute AUC-ROC and AUC-PRC from corss-validation (CV) using LRLASSO method. Mean and standard deviation of AUC-ROC and AUC-PRC were reporeted from five replicates of CV "
   ]
  },
  {
   "cell_type": "code",
   "execution_count": 6,
   "metadata": {},
   "outputs": [
    {
     "name": "stdout",
     "output_type": "stream",
     "text": [
      "Performing cross-validation for each feature matrix using lrlasso engine...\n",
      "Done\n"
     ]
    },
    {
     "name": "stderr",
     "output_type": "stream",
     "text": [
      "[Parallel(n_jobs=1)]: Done   1 out of   1 | elapsed:    2.7s remaining:    0.0s\n",
      "[Parallel(n_jobs=1)]: Done   1 out of   1 | elapsed:    2.7s finished\n"
     ]
    },
    {
     "data": {
      "text/plain": [
       "<ConSReg.ConSReg instance at 0x7fdea4822710>"
      ]
     },
     "execution_count": 6,
     "metadata": {},
     "output_type": "execute_result"
    }
   ],
   "source": [
    "analysis.eval_by_cv(ml_engine = 'lrlasso',rep = 5)"
   ]
  },
  {
   "cell_type": "markdown",
   "metadata": {},
   "source": [
    "Check the CV results"
   ]
  },
  {
   "cell_type": "code",
   "execution_count": 7,
   "metadata": {},
   "outputs": [
    {
     "data": {
      "text/html": [
       "<div>\n",
       "<style scoped>\n",
       "    .dataframe tbody tr th:only-of-type {\n",
       "        vertical-align: middle;\n",
       "    }\n",
       "\n",
       "    .dataframe tbody tr th {\n",
       "        vertical-align: top;\n",
       "    }\n",
       "\n",
       "    .dataframe thead th {\n",
       "        text-align: right;\n",
       "    }\n",
       "</style>\n",
       "<table border=\"1\" class=\"dataframe\">\n",
       "  <thead>\n",
       "    <tr style=\"text-align: right;\">\n",
       "      <th></th>\n",
       "      <th>diff_name</th>\n",
       "      <th>auroc_mean_UR</th>\n",
       "      <th>auroc_std_UR</th>\n",
       "      <th>auroc_mean_DR</th>\n",
       "      <th>auroc_std_DR</th>\n",
       "    </tr>\n",
       "  </thead>\n",
       "  <tbody>\n",
       "    <tr>\n",
       "      <th>0</th>\n",
       "      <td>cortext-endodermis.csv</td>\n",
       "      <td>0.707462</td>\n",
       "      <td>0.039551</td>\n",
       "      <td>0.7002</td>\n",
       "      <td>0.023088</td>\n",
       "    </tr>\n",
       "  </tbody>\n",
       "</table>\n",
       "</div>"
      ],
      "text/plain": [
       "                diff_name  auroc_mean_UR  auroc_std_UR  auroc_mean_DR  \\\n",
       "0  cortext-endodermis.csv       0.707462      0.039551         0.7002   \n",
       "\n",
       "   auroc_std_DR  \n",
       "0      0.023088  "
      ]
     },
     "execution_count": 7,
     "metadata": {},
     "output_type": "execute_result"
    }
   ],
   "source": [
    "analysis.auroc"
   ]
  },
  {
   "cell_type": "code",
   "execution_count": 9,
   "metadata": {},
   "outputs": [
    {
     "name": "stdout",
     "output_type": "stream",
     "text": [
      "Performing stability selection and compute importance score for each TF...\n",
      "Done\n"
     ]
    },
    {
     "data": {
      "text/plain": [
       "<ConSReg.ConSReg instance at 0x7fdea4822710>"
      ]
     },
     "execution_count": 9,
     "metadata": {},
     "output_type": "execute_result"
    }
   ],
   "source": [
    "analysis.compute_imp_score(n_resampling = 200, n_jobs = 36, verbose = True)"
   ]
  },
  {
   "cell_type": "code",
   "execution_count": 10,
   "metadata": {},
   "outputs": [
    {
     "data": {
      "text/plain": [
       "<ConSReg.ConSReg instance at 0x7fdea4822710>"
      ]
     },
     "execution_count": 10,
     "metadata": {},
     "output_type": "execute_result"
    }
   ],
   "source": [
    "analysis.gen_networks(imp_cutoff = 0.5, verbose = True)"
   ]
  },
  {
   "cell_type": "markdown",
   "metadata": {},
   "source": [
    "Save analysis result"
   ]
  },
  {
   "cell_type": "code",
   "execution_count": 11,
   "metadata": {},
   "outputs": [],
   "source": [
    "# Cross-validation result\n",
    "analysis.auroc.to_csv(\"results/single_cell_analysis/auroc_result.csv\")\n",
    "analysis.auprc.to_csv(\"results/single_cell_analysis/auprc_result.csv\")\n",
    "\n",
    "# Importance scores\n",
    "analysis.imp_scores_UR.to_csv(\"results/single_cell_analysis/imp_score_UR.csv\")\n",
    "analysis.imp_scores_DR.to_csv(\"results/single_cell_analysis/imp_score_DR.csv\")\n",
    "\n",
    "# Networks were saved in the format of edge list\n",
    "for diff_name, network in zip(analysis.diff_name_list, analysis.networks_UR):\n",
    "    network.to_csv(\"results/single_cell_analysis/{}_UR_network.csv\".format(diff_name))\n",
    "    \n",
    "for diff_name, network in zip(analysis.diff_name_list, analysis.networks_DR):\n",
    "    network.to_csv(\"results/single_cell_analysis/{}_DR_network.csv\".format(diff_name))"
   ]
  }
 ],
 "metadata": {
  "kernelspec": {
   "display_name": "Python 2",
   "language": "python",
   "name": "python2"
  },
  "language_info": {
   "codemirror_mode": {
    "name": "ipython",
    "version": 2
   },
   "file_extension": ".py",
   "mimetype": "text/x-python",
   "name": "python",
   "nbconvert_exporter": "python",
   "pygments_lexer": "ipython2",
   "version": "2.7.14"
  }
 },
 "nbformat": 4,
 "nbformat_minor": 2
}
