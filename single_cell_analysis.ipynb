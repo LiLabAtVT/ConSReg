{
 "cells": [
  {
   "cell_type": "code",
   "execution_count": 57,
   "metadata": {},
   "outputs": [],
   "source": [
    "import pandas as pd\n",
    "\n",
    "from collections import defaultdict\n",
    "from comb_peak_files import comb_peak_files\n",
    "from peak_weight import get_weight\n",
    "from edge_list import edge_list_from_peak, edge_list_to_nx_graph\n",
    "from feature_mat import get_all_feature_mat\n",
    "from train_test import test_by_cv\n",
    "from imp_score import imp_score\n",
    "from coreg import get_coreg_module\n",
    "from ConSReg import ConSReg"
   ]
  },
  {
   "cell_type": "code",
   "execution_count": 58,
   "metadata": {
    "collapsed": true
   },
   "outputs": [],
   "source": [
    "# ----------------------------------Edit the input file path here-------------------------------------------------------\n",
    "dap_folder = \"/work/alexsong/project/ConSReg/data/DAPseq/DAPseq_OMalley2016Cell/dap_data_v4/all_peaks/\"\n",
    "atac_file = \"/work/alexsong/project/ConSReg/data/ATACseq/ATACseq_Lu2017NAR/peaks/root_merged.bed\"\n",
    "gff_file = \"/work/alexsong/project/ConSReg/data/ATHRef/TAIR10_GFF3_genes.gff\"\n",
    "########################################################################################################################"
   ]
  },
  {
   "cell_type": "code",
   "execution_count": 59,
   "metadata": {},
   "outputs": [],
   "source": [
    "sc_diff_file = \"/work/alexsong/project/scConSReg/data/cortext-endodermis.csv\""
   ]
  },
  {
   "cell_type": "code",
   "execution_count": 60,
   "metadata": {},
   "outputs": [],
   "source": [
    "analysis = ConSReg()"
   ]
  },
  {
   "cell_type": "code",
   "execution_count": 61,
   "metadata": {},
   "outputs": [
    {
     "name": "stdout",
     "output_type": "stream",
     "text": [
      "Merging DAP-seq peaks...\n",
      ">> preparing features information...\t\t 2018-09-21 09:42:41 PM \n",
      ">> identifying nearest features...\t\t 2018-09-21 09:42:41 PM \n",
      ">> calculating distance from peak to TSS...\t 2018-09-21 09:43:46 PM \n",
      ">> assigning genomic annotation...\t\t 2018-09-21 09:43:46 PM \n",
      ">> assigning chromosome lengths\t\t\t 2018-09-21 09:44:10 PM \n",
      ">> done...\t\t\t\t\t 2018-09-21 09:44:10 PM \n",
      "Done\n",
      "Overlapping DAP-seq with ATAC-seq...\n",
      "Done\n",
      "Reading diff tables...\n",
      "Done\n"
     ]
    },
    {
     "data": {
      "text/plain": [
       "<ConSReg.ConSReg instance at 0x7f3e4ac20710>"
      ]
     },
     "execution_count": 61,
     "metadata": {},
     "output_type": "execute_result"
    }
   ],
   "source": [
    "analysis.preprocess(dap_folder=dap_folder, diff_file=[sc_diff_file], atac_file=atac_file, gff_file=gff_file)"
   ]
  },
  {
   "cell_type": "code",
   "execution_count": 62,
   "metadata": {},
   "outputs": [
    {
     "name": "stdout",
     "output_type": "stream",
     "text": [
      "Generating feature matrices...\n",
      "Done\n"
     ]
    },
    {
     "data": {
      "text/plain": [
       "<ConSReg.ConSReg instance at 0x7f3e4ac20710>"
      ]
     },
     "execution_count": 62,
     "metadata": {},
     "output_type": "execute_result"
    }
   ],
   "source": [
    "analysis.gen_feature_mat()"
   ]
  },
  {
   "cell_type": "code",
   "execution_count": 65,
   "metadata": {},
   "outputs": [
    {
     "data": {
      "text/plain": [
       "(1396, 311)"
      ]
     },
     "execution_count": 65,
     "metadata": {},
     "output_type": "execute_result"
    }
   ],
   "source": [
    "analysis.feature_mat_list[0][1].shape"
   ]
  },
  {
   "cell_type": "code",
   "execution_count": 77,
   "metadata": {},
   "outputs": [
    {
     "name": "stdout",
     "output_type": "stream",
     "text": [
      "Performing cross-validation for each feature matrix using lrlasso engine...\n",
      "Done\n"
     ]
    },
    {
     "data": {
      "text/plain": [
       "<ConSReg.ConSReg instance at 0x7f3e4ac20710>"
      ]
     },
     "execution_count": 77,
     "metadata": {},
     "output_type": "execute_result"
    }
   ],
   "source": [
    "analysis.eval_by_cv(ml_engine = 'lrlasso')"
   ]
  },
  {
   "cell_type": "code",
   "execution_count": 79,
   "metadata": {},
   "outputs": [],
   "source": [
    "pd.DataFrame(analysis.auroc,columns=[\"up\",\"down\"]).to_csv(\"/work/alexsong/project/scConSReg/result/auroc_var_genes.csv\")\n",
    "pd.DataFrame(analysis.auprc,columns=[\"up\",\"down\"]).to_csv(\"/work/alexsong/project/scConSReg/result/auprc_var_genes.csv\")"
   ]
  },
  {
   "cell_type": "code",
   "execution_count": 80,
   "metadata": {},
   "outputs": [
    {
     "name": "stdout",
     "output_type": "stream",
     "text": [
      "Performing stability selection and compute importance score for each TF...\n",
      "Done\n"
     ]
    },
    {
     "data": {
      "text/plain": [
       "<ConSReg.ConSReg instance at 0x7f3e4ac20710>"
      ]
     },
     "execution_count": 80,
     "metadata": {},
     "output_type": "execute_result"
    }
   ],
   "source": [
    "analysis.compute_imp_score(n_resampling = 200, n_jobs = 44, verbose = True)"
   ]
  },
  {
   "cell_type": "code",
   "execution_count": 89,
   "metadata": {},
   "outputs": [],
   "source": [
    "analysis.imp_score_list[0][0].sort_values(by=\"scores\",ascending=False).to_csv(\"/work/alexsong/project/scConSReg/result/imp_score_up_09-21-18.csv\")"
   ]
  },
  {
   "cell_type": "code",
   "execution_count": 90,
   "metadata": {},
   "outputs": [],
   "source": [
    "analysis.imp_score_list[0][1].sort_values(by=\"scores\",ascending=False).to_csv(\"/work/alexsong/project/scConSReg/result/imp_score_down_09-21-18.csv\")"
   ]
  }
 ],
 "metadata": {
  "kernelspec": {
   "display_name": "Python 2",
   "language": "python",
   "name": "python2"
  },
  "language_info": {
   "codemirror_mode": {
    "name": "ipython",
    "version": 2
   },
   "file_extension": ".py",
   "mimetype": "text/x-python",
   "name": "python",
   "nbconvert_exporter": "python",
   "pygments_lexer": "ipython2",
   "version": "2.7.14"
  }
 },
 "nbformat": 4,
 "nbformat_minor": 2
}
