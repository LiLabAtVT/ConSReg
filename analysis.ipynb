{
 "cells": [
  {
   "cell_type": "code",
   "execution_count": 370,
   "metadata": {},
   "outputs": [],
   "source": [
    "import pandas as pd\n",
    "\n",
    "from collections import defaultdict\n",
    "from comb_peak_files import comb_peak_files\n",
    "from peak_weight import get_weight\n",
    "from edge_list import edge_list_from_peak, edge_list_to_nx_graph\n",
    "from feature_mat import get_all_feature_mat\n",
    "from train_test import test_by_cv\n",
    "from imp_score import imp_score\n",
    "from coreg import get_coreg_module\n",
    "from ConSReg import ConSReg"
   ]
  },
  {
   "cell_type": "code",
   "execution_count": 371,
   "metadata": {
    "collapsed": true
   },
   "outputs": [],
   "source": [
    "# ----------------------------------Edit the input file path here-------------------------------------------------------\n",
    "dap_folder = \"/work/alexsong/project/ConSReg/data/DAPseq/DAPseq_OMalley2016Cell/dap_data_v4/all_peaks/\"\n",
    "atac_file = \"/work/alexsong/project/ConSReg/data/ATACseq/ATACseq_Lu2017NAR/peaks/root_merged.bed\"\n",
    "gff_file = \"/work/alexsong/project/ConSReg/data/ATHRef/TAIR10_GFF3_genes.gff\"\n",
    "########################################################################################################################"
   ]
  },
  {
   "cell_type": "code",
   "execution_count": 372,
   "metadata": {},
   "outputs": [],
   "source": [
    "sc_diff_file = \"/work/alexsong/project/scConSReg/data/cortext-endodermis.csv\""
   ]
  },
  {
   "cell_type": "code",
   "execution_count": 243,
   "metadata": {
    "collapsed": true
   },
   "outputs": [],
   "source": [
    "hormone_folder = \"/work/alexsong/project/ConSReg/data/expression/hormone/deseq/\"\n",
    "abio_folder = \"/work/alexsong/project/ConSReg/data/expression/abioStress/deseq/\"\n",
    "hormone_files = [\n",
    "    \"GSE80565_3-GSE80565_4.csv\",\n",
    "    \"GSE80565_5-GSE80565_6.csv\",\n",
    "    \"GSE80565_7-GSE80565_8.csv\",\n",
    "    \"GSE80565_11-GSE80565_12.csv\",\n",
    "    \"GSE80565_13-GSE80565_14.csv\",\n",
    "    \"GSE80565_9-GSE80565_10.csv\",\n",
    "]\n",
    "\n",
    "abio_files = [\n",
    "    \"GSE63406_3-GSE63406_1.csv\",\n",
    "    \"GSE59699_11-GSE59699_12.csv\",\n",
    "    \"GSE59699_14-GSE59699_13.csv\",\n",
    "    \"GSE59699_15-GSE59699_16.csv\",\n",
    "    \"GSE59699_17-GSE59699_18.csv\",\n",
    "    \"GSE59699_3-GSE59699_4.csv\",\n",
    "    \"GSE59699_7-GSE59699_8.csv\",\n",
    "    \"PRJNA324514_1-PRJNA314076_1.csv\",\n",
    "    \"PRJNA324514_2-PRJNA324514_1.csv\",\n",
    "    \"PRJNA324514_3-PRJNA324514_2.csv\",\n",
    "    \"PRJNA324514_4-PRJNA324514_3.csv\",\n",
    "    \"PRJNA324514_11-PRJNA314076_1.csv\",\n",
    "    \"PRJEB10930_3_T-PRJEB10930_3_C.csv\",\n",
    "    \"PRJEB10930_4_T-PRJEB10930_4_C.csv\",\n",
    "    \"GSE63406_5-GSE63406_3.csv\",\n",
    "    \"GSE63406_6-GSE63406_4.csv\",\n",
    "    \"GSE60865_2-GSE60865_1.csv\",\n",
    "    \"GSE60865_3-GSE60865_2.csv\",\n",
    "    \"GSE67332_2-GSE67332_1.csv\",\n",
    "    \"GSE67332_3-GSE67332_2.csv\",\n",
    "    \"GSE67332_5-GSE67332_4.csv\",\n",
    "    \"GSE67332_6-GSE67332_5.csv\",\n",
    "    \"GSE69077_2-GSE69077_1.csv\",\n",
    "    \"GSE69077_3-GSE69077_2.csv\",\n",
    "    \"GSE69510_2-GSE69510_1.csv\",\n",
    "    \"GSE69510_4-GSE69510_3.csv\",\n",
    "    \"GSE72806_3-GSE72806_1.csv\",\n",
    "    \"GSE72806_4-GSE72806_1.csv\",\n",
    "    \"GSE81202_17-GSE81202_15.csv\",\n",
    "    \"GSE81202_18-GSE81202_16.csv\",\n",
    "    \"GSE81202_10-GSE81202_8.csv\",\n",
    "    \"GSE81202_13-GSE81202_11.csv\",\n",
    "    \"GSE81202_14-GSE81202_12.csv\",\n",
    "    \"PRJNA324514_6-PRJNA314076_1.csv\",\n",
    "    \"PRJNA324514_10-PRJNA324514_9.csv\",\n",
    "    \"PRJNA324514_12-PRJNA324514_11.csv\",\n",
    "    \"PRJNA324514_14-PRJNA324514_13.csv\",\n",
    "    \"PRJNA324514_15-PRJNA324514_14.csv\"\n",
    "]\n",
    "hormone_files = map(lambda x:hormone_folder + x, hormone_files)\n",
    "abio_files = map(lambda x: abio_folder + x, abio_files)\n",
    "file = hormone_files + abio_files"
   ]
  },
  {
   "cell_type": "code",
   "execution_count": 244,
   "metadata": {},
   "outputs": [
    {
     "name": "stdout",
     "output_type": "stream",
     "text": [
      "Merging DAP-seq peaks...\n",
      ">> preparing features information...\t\t 2018-09-21 08:41:54 AM \n",
      ">> identifying nearest features...\t\t 2018-09-21 08:41:54 AM \n",
      ">> calculating distance from peak to TSS...\t 2018-09-21 08:42:53 AM \n",
      ">> assigning genomic annotation...\t\t 2018-09-21 08:42:53 AM \n",
      ">> assigning chromosome lengths\t\t\t 2018-09-21 08:43:17 AM \n",
      ">> done...\t\t\t\t\t 2018-09-21 08:43:17 AM \n",
      "Done\n",
      "Overlapping DAP-seq with ATAC-seq...\n",
      "Done\n",
      "Reading diff tables...\n",
      "Done\n"
     ]
    },
    {
     "data": {
      "text/plain": [
       "<ConSReg.ConSReg instance at 0x7f265f821fc8>"
      ]
     },
     "execution_count": 244,
     "metadata": {},
     "output_type": "execute_result"
    }
   ],
   "source": [
    "analysis.preprocess(dap_folder=dap_folder, diff_file=[sc_diff_file], atac_file=atac_file, gff_file=gff_file)"
   ]
  },
  {
   "cell_type": "code",
   "execution_count": 347,
   "metadata": {},
   "outputs": [],
   "source": [
    "pos_genes = pd.read_csv(\"/work/alexsong/project/scConSReg/data/var_genes.csv\",index_col=0).iloc[:,0]\n",
    "diff_tab = pd.read_csv(\"/work/alexsong/project/scConSReg/data/cortext-endodermis.csv\",index_col = 0)\n",
    "diff_tab.loc[:,\"padj\"] = 1\n",
    "diff_tab.loc[pos_genes,\"padj\"] = 0"
   ]
  },
  {
   "cell_type": "code",
   "execution_count": 348,
   "metadata": {},
   "outputs": [],
   "source": [
    "analysis.diff_tab_list = [diff_tab]\n",
    "analysis.feature_mat_list = []\n",
    "analysis.auroc = []\n",
    "analysis.auprc = []"
   ]
  },
  {
   "cell_type": "code",
   "execution_count": 349,
   "metadata": {},
   "outputs": [
    {
     "name": "stdout",
     "output_type": "stream",
     "text": [
      "Generating feature matrices...\n",
      "Done\n"
     ]
    },
    {
     "data": {
      "text/plain": [
       "<ConSReg.ConSReg instance at 0x7f265f821fc8>"
      ]
     },
     "execution_count": 349,
     "metadata": {},
     "output_type": "execute_result"
    }
   ],
   "source": [
    "analysis.gen_feature_mat()"
   ]
  },
  {
   "cell_type": "code",
   "execution_count": 350,
   "metadata": {},
   "outputs": [
    {
     "data": {
      "text/plain": [
       "(3490, 311)"
      ]
     },
     "execution_count": 350,
     "metadata": {},
     "output_type": "execute_result"
    }
   ],
   "source": [
    "analysis.feature_mat_list[0][1].shape"
   ]
  },
  {
   "cell_type": "code",
   "execution_count": 343,
   "metadata": {},
   "outputs": [
    {
     "name": "stdout",
     "output_type": "stream",
     "text": [
      "Performing cross-validation for each feature matrix using lrlasso engine...\n",
      "Done\n"
     ]
    },
    {
     "data": {
      "text/plain": [
       "<ConSReg.ConSReg instance at 0x7f265f821fc8>"
      ]
     },
     "execution_count": 343,
     "metadata": {},
     "output_type": "execute_result"
    }
   ],
   "source": [
    "analysis.eval_by_cv(ml_engine = 'lrlasso')"
   ]
  },
  {
   "cell_type": "code",
   "execution_count": 344,
   "metadata": {},
   "outputs": [
    {
     "data": {
      "text/plain": [
       "[(0.57825663716814157, 0.56515499425947191),\n",
       " (0.57853574139787811, 0.57984737139626907),\n",
       " (0.58988158359844467, 0.61445953593661573),\n",
       " (0.59406727288779027, 0.54074074074074074),\n",
       " (0.58214556950846896, 0.58376214979988572),\n",
       " (0.57636424624401961, 0.577784156142365),\n",
       " (0.57991973551615006, 0.64914529914529917),\n",
       " (0.61735930506165626, 0.5),\n",
       " (0.58786969188664251, 0.52713397399660822),\n",
       " (0.6146010487528345, 0.5),\n",
       " (0.63671792152704132, 0.47638483965014577)]"
      ]
     },
     "execution_count": 344,
     "metadata": {},
     "output_type": "execute_result"
    }
   ],
   "source": [
    "analysis.auroc"
   ]
  },
  {
   "cell_type": "code",
   "execution_count": 310,
   "metadata": {},
   "outputs": [],
   "source": [
    "pd.DataFrame(analysis.auroc,columns=[\"up\",\"down\"]).to_csv(\"/work/alexsong/project/scConSReg/result/auroc_high_fc_genes_pos.csv\")\n",
    "pd.DataFrame(analysis.auprc,columns=[\"up\",\"down\"]).to_csv(\"/work/alexsong/project/scConSReg/result/auprc_hi_genes_pos.csv\")"
   ]
  },
  {
   "cell_type": "code",
   "execution_count": null,
   "metadata": {},
   "outputs": [],
   "source": [
    "analysis = ConSReg()"
   ]
  },
  {
   "cell_type": "code",
   "execution_count": null,
   "metadata": {},
   "outputs": [],
   "source": [
    "analysis.preprocess(dap_folder=dap_folder, diff_file=file[:5], atac_file=atac_file, gff_file=gff_file)"
   ]
  },
  {
   "cell_type": "code",
   "execution_count": null,
   "metadata": {},
   "outputs": [],
   "source": [
    "analysis.gen_feature_mat()"
   ]
  },
  {
   "cell_type": "code",
   "execution_count": null,
   "metadata": {},
   "outputs": [],
   "source": [
    "analysis.get_feature_group(deep_split = 2)"
   ]
  },
  {
   "cell_type": "code",
   "execution_count": null,
   "metadata": {},
   "outputs": [],
   "source": [
    "analysis.eval_by_cv(ml_engine = 'lrlasso')"
   ]
  },
  {
   "cell_type": "code",
   "execution_count": 351,
   "metadata": {},
   "outputs": [
    {
     "name": "stdout",
     "output_type": "stream",
     "text": [
      "Analysis aborted. There are no importance scores generated yet.\n"
     ]
    },
    {
     "data": {
      "text/plain": [
       "<ConSReg.ConSReg instance at 0x7f265f821fc8>"
      ]
     },
     "execution_count": 351,
     "metadata": {},
     "output_type": "execute_result"
    }
   ],
   "source": [
    "analysis.gen_networks(imp_cutoff = 0.5, verbose = True)"
   ]
  },
  {
   "cell_type": "code",
   "execution_count": 352,
   "metadata": {},
   "outputs": [
    {
     "name": "stdout",
     "output_type": "stream",
     "text": [
      "Performing stability selection and compute importance score for each TF...\n",
      "Done\n"
     ]
    },
    {
     "data": {
      "text/plain": [
       "<ConSReg.ConSReg instance at 0x7f265f821fc8>"
      ]
     },
     "execution_count": 352,
     "metadata": {},
     "output_type": "execute_result"
    }
   ],
   "source": [
    "analysis.compute_imp_score(n_resampling = 200, n_jobs = 44, verbose = True)"
   ]
  },
  {
   "cell_type": "code",
   "execution_count": 358,
   "metadata": {},
   "outputs": [],
   "source": [
    "score = analysis.imp_score_list[0][0]"
   ]
  },
  {
   "cell_type": "code",
   "execution_count": 366,
   "metadata": {},
   "outputs": [
    {
     "data": {
      "text/html": [
       "<div>\n",
       "<style scoped>\n",
       "    .dataframe tbody tr th:only-of-type {\n",
       "        vertical-align: middle;\n",
       "    }\n",
       "\n",
       "    .dataframe tbody tr th {\n",
       "        vertical-align: top;\n",
       "    }\n",
       "\n",
       "    .dataframe thead th {\n",
       "        text-align: right;\n",
       "    }\n",
       "</style>\n",
       "<table border=\"1\" class=\"dataframe\">\n",
       "  <thead>\n",
       "    <tr style=\"text-align: right;\">\n",
       "      <th></th>\n",
       "      <th>scores</th>\n",
       "    </tr>\n",
       "  </thead>\n",
       "  <tbody>\n",
       "    <tr>\n",
       "      <th>AT3G16280</th>\n",
       "      <td>1.000</td>\n",
       "    </tr>\n",
       "    <tr>\n",
       "      <th>AT5G52830</th>\n",
       "      <td>1.000</td>\n",
       "    </tr>\n",
       "    <tr>\n",
       "      <th>AT4G34590</th>\n",
       "      <td>1.000</td>\n",
       "    </tr>\n",
       "    <tr>\n",
       "      <th>AT1G08010</th>\n",
       "      <td>0.990</td>\n",
       "    </tr>\n",
       "    <tr>\n",
       "      <th>AT5G39610</th>\n",
       "      <td>0.975</td>\n",
       "    </tr>\n",
       "    <tr>\n",
       "      <th>AT5G07310</th>\n",
       "      <td>0.925</td>\n",
       "    </tr>\n",
       "    <tr>\n",
       "      <th>AT3G28920</th>\n",
       "      <td>0.840</td>\n",
       "    </tr>\n",
       "    <tr>\n",
       "      <th>AT5G16820</th>\n",
       "      <td>0.830</td>\n",
       "    </tr>\n",
       "    <tr>\n",
       "      <th>AT3G21890</th>\n",
       "      <td>0.790</td>\n",
       "    </tr>\n",
       "    <tr>\n",
       "      <th>AT2G23290</th>\n",
       "      <td>0.720</td>\n",
       "    </tr>\n",
       "    <tr>\n",
       "      <th>AT3G12250</th>\n",
       "      <td>0.675</td>\n",
       "    </tr>\n",
       "    <tr>\n",
       "      <th>AT5G29000</th>\n",
       "      <td>0.645</td>\n",
       "    </tr>\n",
       "    <tr>\n",
       "      <th>AT4G26640</th>\n",
       "      <td>0.600</td>\n",
       "    </tr>\n",
       "    <tr>\n",
       "      <th>AT2G30340</th>\n",
       "      <td>0.585</td>\n",
       "    </tr>\n",
       "    <tr>\n",
       "      <th>AT5G11510</th>\n",
       "      <td>0.580</td>\n",
       "    </tr>\n",
       "    <tr>\n",
       "      <th>AT2G46590</th>\n",
       "      <td>0.555</td>\n",
       "    </tr>\n",
       "    <tr>\n",
       "      <th>AT2G40260</th>\n",
       "      <td>0.525</td>\n",
       "    </tr>\n",
       "    <tr>\n",
       "      <th>AT1G19850</th>\n",
       "      <td>0.520</td>\n",
       "    </tr>\n",
       "    <tr>\n",
       "      <th>AT2G02070</th>\n",
       "      <td>0.435</td>\n",
       "    </tr>\n",
       "    <tr>\n",
       "      <th>AT5G59430</th>\n",
       "      <td>0.420</td>\n",
       "    </tr>\n",
       "    <tr>\n",
       "      <th>AT4G25490</th>\n",
       "      <td>0.420</td>\n",
       "    </tr>\n",
       "    <tr>\n",
       "      <th>AT3G46590</th>\n",
       "      <td>0.395</td>\n",
       "    </tr>\n",
       "    <tr>\n",
       "      <th>AT3G11440</th>\n",
       "      <td>0.340</td>\n",
       "    </tr>\n",
       "    <tr>\n",
       "      <th>AT1G51700</th>\n",
       "      <td>0.325</td>\n",
       "    </tr>\n",
       "    <tr>\n",
       "      <th>AT1G69490</th>\n",
       "      <td>0.320</td>\n",
       "    </tr>\n",
       "    <tr>\n",
       "      <th>AT5G60850</th>\n",
       "      <td>0.185</td>\n",
       "    </tr>\n",
       "    <tr>\n",
       "      <th>AT1G49480</th>\n",
       "      <td>0.100</td>\n",
       "    </tr>\n",
       "    <tr>\n",
       "      <th>AT3G25990</th>\n",
       "      <td>0.095</td>\n",
       "    </tr>\n",
       "    <tr>\n",
       "      <th>AT1G78700</th>\n",
       "      <td>0.090</td>\n",
       "    </tr>\n",
       "    <tr>\n",
       "      <th>AT4G10350</th>\n",
       "      <td>0.075</td>\n",
       "    </tr>\n",
       "    <tr>\n",
       "      <th>...</th>\n",
       "      <td>...</td>\n",
       "    </tr>\n",
       "    <tr>\n",
       "      <th>AT1G72010</th>\n",
       "      <td>0.000</td>\n",
       "    </tr>\n",
       "    <tr>\n",
       "      <th>AT3G18990</th>\n",
       "      <td>0.000</td>\n",
       "    </tr>\n",
       "    <tr>\n",
       "      <th>AT5G51190</th>\n",
       "      <td>0.000</td>\n",
       "    </tr>\n",
       "    <tr>\n",
       "      <th>AT4G01680</th>\n",
       "      <td>0.000</td>\n",
       "    </tr>\n",
       "    <tr>\n",
       "      <th>AT3G10480</th>\n",
       "      <td>0.000</td>\n",
       "    </tr>\n",
       "    <tr>\n",
       "      <th>AT2G20400</th>\n",
       "      <td>0.000</td>\n",
       "    </tr>\n",
       "    <tr>\n",
       "      <th>AT3G42860</th>\n",
       "      <td>0.000</td>\n",
       "    </tr>\n",
       "    <tr>\n",
       "      <th>AT5G13910</th>\n",
       "      <td>0.000</td>\n",
       "    </tr>\n",
       "    <tr>\n",
       "      <th>AT1G68670</th>\n",
       "      <td>0.000</td>\n",
       "    </tr>\n",
       "    <tr>\n",
       "      <th>AT3G18400</th>\n",
       "      <td>0.000</td>\n",
       "    </tr>\n",
       "    <tr>\n",
       "      <th>AT1G02230</th>\n",
       "      <td>0.000</td>\n",
       "    </tr>\n",
       "    <tr>\n",
       "      <th>AT1G30490</th>\n",
       "      <td>0.000</td>\n",
       "    </tr>\n",
       "    <tr>\n",
       "      <th>AT3G10800</th>\n",
       "      <td>0.000</td>\n",
       "    </tr>\n",
       "    <tr>\n",
       "      <th>AT5G14960</th>\n",
       "      <td>0.000</td>\n",
       "    </tr>\n",
       "    <tr>\n",
       "      <th>AT5G63260</th>\n",
       "      <td>0.000</td>\n",
       "    </tr>\n",
       "    <tr>\n",
       "      <th>AT3G15500</th>\n",
       "      <td>0.000</td>\n",
       "    </tr>\n",
       "    <tr>\n",
       "      <th>AT4G37180</th>\n",
       "      <td>0.000</td>\n",
       "    </tr>\n",
       "    <tr>\n",
       "      <th>AT1G75240</th>\n",
       "      <td>0.000</td>\n",
       "    </tr>\n",
       "    <tr>\n",
       "      <th>AT1G18330</th>\n",
       "      <td>0.000</td>\n",
       "    </tr>\n",
       "    <tr>\n",
       "      <th>AT4G27950</th>\n",
       "      <td>0.000</td>\n",
       "    </tr>\n",
       "    <tr>\n",
       "      <th>AT2G38470</th>\n",
       "      <td>0.000</td>\n",
       "    </tr>\n",
       "    <tr>\n",
       "      <th>AT3G01220</th>\n",
       "      <td>0.000</td>\n",
       "    </tr>\n",
       "    <tr>\n",
       "      <th>AT2G18060</th>\n",
       "      <td>0.000</td>\n",
       "    </tr>\n",
       "    <tr>\n",
       "      <th>AT3G60530</th>\n",
       "      <td>0.000</td>\n",
       "    </tr>\n",
       "    <tr>\n",
       "      <th>AT5G67300</th>\n",
       "      <td>0.000</td>\n",
       "    </tr>\n",
       "    <tr>\n",
       "      <th>AT1G29160</th>\n",
       "      <td>0.000</td>\n",
       "    </tr>\n",
       "    <tr>\n",
       "      <th>AT1G74840</th>\n",
       "      <td>0.000</td>\n",
       "    </tr>\n",
       "    <tr>\n",
       "      <th>AT1G68550</th>\n",
       "      <td>0.000</td>\n",
       "    </tr>\n",
       "    <tr>\n",
       "      <th>AT2G23340</th>\n",
       "      <td>0.000</td>\n",
       "    </tr>\n",
       "    <tr>\n",
       "      <th>AT1G71450</th>\n",
       "      <td>0.000</td>\n",
       "    </tr>\n",
       "  </tbody>\n",
       "</table>\n",
       "<p>310 rows × 1 columns</p>\n",
       "</div>"
      ],
      "text/plain": [
       "           scores\n",
       "AT3G16280   1.000\n",
       "AT5G52830   1.000\n",
       "AT4G34590   1.000\n",
       "AT1G08010   0.990\n",
       "AT5G39610   0.975\n",
       "AT5G07310   0.925\n",
       "AT3G28920   0.840\n",
       "AT5G16820   0.830\n",
       "AT3G21890   0.790\n",
       "AT2G23290   0.720\n",
       "AT3G12250   0.675\n",
       "AT5G29000   0.645\n",
       "AT4G26640   0.600\n",
       "AT2G30340   0.585\n",
       "AT5G11510   0.580\n",
       "AT2G46590   0.555\n",
       "AT2G40260   0.525\n",
       "AT1G19850   0.520\n",
       "AT2G02070   0.435\n",
       "AT5G59430   0.420\n",
       "AT4G25490   0.420\n",
       "AT3G46590   0.395\n",
       "AT3G11440   0.340\n",
       "AT1G51700   0.325\n",
       "AT1G69490   0.320\n",
       "AT5G60850   0.185\n",
       "AT1G49480   0.100\n",
       "AT3G25990   0.095\n",
       "AT1G78700   0.090\n",
       "AT4G10350   0.075\n",
       "...           ...\n",
       "AT1G72010   0.000\n",
       "AT3G18990   0.000\n",
       "AT5G51190   0.000\n",
       "AT4G01680   0.000\n",
       "AT3G10480   0.000\n",
       "AT2G20400   0.000\n",
       "AT3G42860   0.000\n",
       "AT5G13910   0.000\n",
       "AT1G68670   0.000\n",
       "AT3G18400   0.000\n",
       "AT1G02230   0.000\n",
       "AT1G30490   0.000\n",
       "AT3G10800   0.000\n",
       "AT5G14960   0.000\n",
       "AT5G63260   0.000\n",
       "AT3G15500   0.000\n",
       "AT4G37180   0.000\n",
       "AT1G75240   0.000\n",
       "AT1G18330   0.000\n",
       "AT4G27950   0.000\n",
       "AT2G38470   0.000\n",
       "AT3G01220   0.000\n",
       "AT2G18060   0.000\n",
       "AT3G60530   0.000\n",
       "AT5G67300   0.000\n",
       "AT1G29160   0.000\n",
       "AT1G74840   0.000\n",
       "AT1G68550   0.000\n",
       "AT2G23340   0.000\n",
       "AT1G71450   0.000\n",
       "\n",
       "[310 rows x 1 columns]"
      ]
     },
     "execution_count": 366,
     "metadata": {},
     "output_type": "execute_result"
    }
   ],
   "source": [
    "score.sort_values(by=\"scores\",ascending=False)"
   ]
  },
  {
   "cell_type": "code",
   "execution_count": null,
   "metadata": {},
   "outputs": [],
   "source": []
  }
 ],
 "metadata": {
  "kernelspec": {
   "display_name": "Python 2",
   "language": "python",
   "name": "python2"
  },
  "language_info": {
   "codemirror_mode": {
    "name": "ipython",
    "version": 2
   },
   "file_extension": ".py",
   "mimetype": "text/x-python",
   "name": "python",
   "nbconvert_exporter": "python",
   "pygments_lexer": "ipython2",
   "version": "2.7.14"
  }
 },
 "nbformat": 4,
 "nbformat_minor": 2
}
